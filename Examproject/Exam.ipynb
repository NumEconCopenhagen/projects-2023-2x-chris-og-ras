{
 "cells": [
  {
   "attachments": {},
   "cell_type": "markdown",
   "metadata": {},
   "source": [
    "# Exam project"
   ]
  },
  {
   "attachments": {},
   "cell_type": "markdown",
   "metadata": {},
   "source": [
    "**Table of contents**<a id='toc0_'></a>    \n",
    "- 1. [Problem 1: Optimal taxation with government consumption](#toc1_)    \n",
    "- 2. [Problem 2: Labor adjustment costs](#toc2_)    \n",
    "- 3. [Problem 3: Global optimizer with refined multi-start](#toc3_)    \n",
    "\n",
    "<!-- vscode-jupyter-toc-config\n",
    "\tnumbering=true\n",
    "\tanchor=true\n",
    "\tflat=false\n",
    "\tminLevel=2\n",
    "\tmaxLevel=6\n",
    "\t/vscode-jupyter-toc-config -->\n",
    "<!-- THIS CELL WILL BE REPLACED ON TOC UPDATE. DO NOT WRITE YOUR TEXT IN THIS CELL -->"
   ]
  },
  {
   "attachments": {},
   "cell_type": "markdown",
   "metadata": {},
   "source": [
    "Group name: 2x Chris & Ras"
   ]
  },
  {
   "cell_type": "code",
   "execution_count": 1,
   "metadata": {},
   "outputs": [],
   "source": [
    "import numpy as np\n",
    "import matplotlib.pyplot as plt\n",
    "import sympy as sm\n",
    "from scipy.optimize import minimize\n",
    "import pandas as pd"
   ]
  },
  {
   "attachments": {},
   "cell_type": "markdown",
   "metadata": {},
   "source": [
    "## 1. <a id='toc1_'></a>[Problem 1: Optimal taxation with government consumption](#toc0_)"
   ]
  },
  {
   "attachments": {},
   "cell_type": "markdown",
   "metadata": {},
   "source": [
    "\n",
    "Consider a worker choosing hours of labor, $L\\in[0,24]$, to maximize utility: \n",
    "\n",
    "$$\n",
    "\\begin{align*}\n",
    "V(w,\\tau,G)&=\\max_{L\\in[0,24]}\\ln\\left(C^{\\alpha}G^{1-\\alpha}\\right)-\\nu\\frac{L^{2}}{2}\\\\&\\text{s.t.}\\\\&C=\\kappa+(1-\\tau)wL\n",
    "\\end{align*}\n",
    "$$\n",
    "\n",
    "where \n",
    "\n",
    "* $C$ is *private* consumption with weight $\\alpha\\in(0,1)$.\n",
    "* $\\kappa > 0$ is the *free private* consumption component.\n",
    "* $C = (1-\\tau)wL$ is the *costly private* consumption component.\n",
    "* $w > 0 $ is the real wage.\n",
    "* $\\tau \\in (0,1)$ is the labor-income tax rate.\n",
    "* $G > 0 $ is *government* consumption with weight $1-\\alpha$.\n",
    "* $\\nu > 0$ is the disutility of labor scaling factor"
   ]
  },
  {
   "attachments": {},
   "cell_type": "markdown",
   "metadata": {},
   "source": [
    "\n",
    "The baseline parameters are:\n",
    "\n",
    "$$\n",
    "\\begin{align*}\n",
    "\\alpha &= 0.5\\\\\n",
    "\\kappa &= 1.0\\\\\n",
    "\\nu &= \\frac{1}{2\\cdot16^2} \\\\\n",
    "w &= 1.0 \\\\ \n",
    "\\tau &= 0.30 \\\\\n",
    "\\end{align*}\n",
    "$$"
   ]
  },
  {
   "attachments": {},
   "cell_type": "markdown",
   "metadata": {},
   "source": [
    "**Question 1:** Verify that the optimal labor supply choice is $L^{\\star}(\\tilde{w}) =\\frac{-\\kappa+\\sqrt{\\kappa^{2}+4\\frac{\\alpha}{\\nu}\\tilde{w}^2}}{2\\tilde{w}}$, where $\\tilde{w} = (1-\\tau)w$, for $G\\in\\left\\{1.0 , 2.0\\right\\}$."
   ]
  },
  {
   "attachments": {},
   "cell_type": "markdown",
   "metadata": {},
   "source": [
    "First, we write up all the parameters needed for solving the problem, and write up any functions and constraints related to the maximisation problem. We then take the First Order Condition (FOC) w.r.t. the hours of labor, $L$. We rewrite the FOC, such that we set up a second degree polynomial."
   ]
  },
  {
   "cell_type": "code",
   "execution_count": 2,
   "metadata": {},
   "outputs": [
    {
     "data": {
      "text/latex": [
       "$\\displaystyle L v \\left(L w_{tilde} + \\kappa\\right) - \\alpha w_{tilde} = 0$"
      ],
      "text/plain": [
       "Eq(L*v*(L*w_tilde + kappa) - alpha*w_tilde, 0)"
      ]
     },
     "execution_count": 2,
     "metadata": {},
     "output_type": "execute_result"
    }
   ],
   "source": [
    "# Define the symbols\n",
    "alpha = sm.symbols('alpha')\n",
    "kappa = sm.symbols('kappa')\n",
    "v = sm.symbols('v')\n",
    "w = sm.symbols('w')\n",
    "tau = sm.symbols('tau')\n",
    "L = sm.symbols('L')\n",
    "G = sm.symbols('G')\n",
    "C = sm.symbols('C')\n",
    "w_tilde = sm.symbols('w_tilde')\n",
    "\n",
    "# Define the utility function\n",
    "utility = sm.log(C**alpha * G**(1-alpha)) - v*(L**2)/2\n",
    "\n",
    "# Define the constraint\n",
    "constraint = sm.Eq(C, kappa + w_tilde*L)\n",
    "\n",
    "# Substitute the constraint into the utility function\n",
    "complete = utility.subs(C, constraint.rhs)\n",
    "\n",
    "# Differentiate the complete function w.r.t L\n",
    "dU_dL = sm.diff(complete, L)\n",
    "FOC = sm.Eq(0, dU_dL)\n",
    "\n",
    "# Add L*v to both sides of FOC and then make the equation not divided in anything to read the polynomial formula\n",
    "FOC_updated = sm.Eq(FOC.lhs + L*v, FOC.rhs + L*v)\n",
    "FOC_updated = sm.Eq(FOC_updated.lhs * (L*w_tilde + kappa), FOC_updated.rhs * (L*w_tilde + kappa))\n",
    "FOC_updated = sm.Eq(FOC_updated.lhs, FOC_updated.rhs - G**(1-alpha)*G**(alpha-1)*alpha*w_tilde + alpha * w_tilde)\n",
    "FOC_updated = sm.Eq(FOC_updated.lhs - alpha * w_tilde, FOC_updated.rhs - alpha * w_tilde)\n",
    "\n",
    "# Display the updated FOC equation\n",
    "FOC_updated"
   ]
  },
  {
   "attachments": {},
   "cell_type": "markdown",
   "metadata": {},
   "source": [
    "We can from the above result see that it gives the following polynomial equation:\n",
    "\n",
    "$L^2 \\cdot \\tilde{w} + L \\cdot \\kappa - \\frac{\\alpha}{v} \\cdot \\tilde{w} = 0$\n",
    "\n",
    "We can therefore use the discriminant formula, which is:\n",
    "\n",
    "$d = b^2 - 4\\cdot a \\cdot c$\n",
    "\n",
    "We can read those from the above result and then find the solution down below."
   ]
  },
  {
   "cell_type": "code",
   "execution_count": 3,
   "metadata": {},
   "outputs": [
    {
     "data": {
      "text/latex": [
       "$\\displaystyle \\frac{- \\kappa + \\sqrt{- \\frac{4 \\alpha w_{tilde}^{2}}{v} + \\kappa^{2}}}{2 w_{tilde}}$"
      ],
      "text/plain": [
       "(-kappa + sqrt(-4*alpha*w_tilde**2/v + kappa**2))/(2*w_tilde)"
      ]
     },
     "execution_count": 3,
     "metadata": {},
     "output_type": "execute_result"
    }
   ],
   "source": [
    "# The following is read from the polynomial equation\n",
    "a = w_tilde\n",
    "b = kappa\n",
    "c = alpha/v * w_tilde\n",
    "d = b**2 - 4*a*c\n",
    "\n",
    "L = (-b + sm.sqrt(d))/(2*a)\n",
    "L"
   ]
  },
  {
   "attachments": {},
   "cell_type": "markdown",
   "metadata": {},
   "source": [
    "By finding the roots of this second degree polynomial, we find the exact result. "
   ]
  },
  {
   "attachments": {},
   "cell_type": "markdown",
   "metadata": {},
   "source": [
    "**Question 2:** Illustrate how $L^{\\star}(\\tilde{w})$ depends on $w$."
   ]
  },
  {
   "attachments": {},
   "cell_type": "markdown",
   "metadata": {},
   "source": [
    "In this question we will take the $L^{\\star}(\\tilde{w})$ that we found from the question above and insert the $\\tilde{w} = (1-\\tau)w$. We then plot the graph to see how the optimal labor supply depends on wage:"
   ]
  },
  {
   "cell_type": "code",
   "execution_count": 4,
   "metadata": {},
   "outputs": [
    {
     "data": {
      "image/png": "[encoded data removed]",
      "text/plain": [
       "<Figure size 640x480 with 1 Axes>"
      ]
     },
     "metadata": {},
     "output_type": "display_data"
    }
   ],
   "source": [
    "# We insert the parameter values\n",
    "alpha = 0.5\n",
    "kappa = 1.0\n",
    "nu = 1 / (2 * 16**2)\n",
    "tau = 0.30\n",
    "\n",
    "w_val = np.linspace(0.001, 2.0, 1000)  # Range of w values to plot\n",
    "tilde_w_val = (1 - tau) * w_val    # make w_tilde\n",
    "\n",
    "# We insert the opt. labor supply function\n",
    "opt_labor = (-kappa + np.sqrt(kappa**2 + 4 * (alpha / nu) * tilde_w_val**2)) / (2 * tilde_w_val)\n",
    "\n",
    "# We then plot the opt. labor supply function with the real wage values which is between 0 to 2\n",
    "plt.plot(w_val, opt_labor, color='green', linewidth=3)\n",
    "plt.xlabel('w')\n",
    "plt.ylabel('Opt. labor supply (L*)')\n",
    "plt.title('Opt. labor supply against real wage (W)')\n",
    "plt.grid(True)\n",
    "plt.show()"
   ]
  },
  {
   "attachments": {},
   "cell_type": "markdown",
   "metadata": {},
   "source": [
    "We can see that it is a logarithmic function where it goes towards 16 in optimal labor supply, when $w$ goes towards infinity."
   ]
  },
  {
   "attachments": {},
   "cell_type": "markdown",
   "metadata": {},
   "source": [
    "\n",
    "We now consider a government, who chooses $\\tau$ and spend all of the taxes on government consumption so:\n",
    "\n",
    "$$\n",
    "G = \\tau w L^{\\star}((1-\\tau)w)\n",
    "$$\n",
    "\n",
    "**Question 3:** Plot the implied $L$, $G$ and worker utility for a grid of $\\tau$-values.\n"
   ]
  },
  {
   "attachments": {},
   "cell_type": "markdown",
   "metadata": {},
   "source": [
    "We begin by defining the parameters once more, and constructing a grid of 100 different values of $\\tau$ in the interval $\\{0.001,0.999\\}$. We then loop the calculated labor hours, $L$, worker utility, $V$, and government consumption, $G$ for each value of $\\tau$."
   ]
  },
  {
   "cell_type": "code",
   "execution_count": 17,
   "metadata": {},
   "outputs": [
    {
     "data": {
      "image/png": "[encoded data removed]",
      "text/plain": [
       "<Figure size 1000x600 with 3 Axes>"
      ]
     },
     "metadata": {},
     "output_type": "display_data"
    }
   ],
   "source": [
    "# Inserting the parameter values\n",
    "alpha = 0.5\n",
    "kappa = 1.0\n",
    "nu = 1 / (2 * 16**2)\n",
    "w = 1.0\n",
    "\n",
    "# Creates the values that tau needs to be run through\n",
    "tau_v = np.linspace(0.001, 0.999, 100)  \n",
    "\n",
    "# Make the empty arrays, so we can store the values for the plot inside these\n",
    "lab_s = []\n",
    "gov_c = []\n",
    "work_u = []\n",
    "\n",
    "# For loop where we go through all the tau values\n",
    "for tau in tau_v:\n",
    "    tilde_w = (1 - tau) * w\n",
    "\n",
    "    # Finding the optimal labor value for the different tau values\n",
    "    opt_labor = (-kappa + np.sqrt(kappa**2 + 4 * (alpha / nu) * tilde_w**2)) / (2 * tilde_w)\n",
    "    \n",
    "    # Calculating the government spending by the above optimal labor\n",
    "    govern_spend = tau * w * opt_labor\n",
    "\n",
    "    # Calculating the worker utility by the given parameter values and by the calculated government spending and labor supply\n",
    "    utility = np.log((kappa + (1 - tau) * w * opt_labor)**alpha * govern_spend**(1 - alpha)) - (nu * opt_labor**2) / 2\n",
    "    \n",
    "    # Appending in the calculated labor value into the array lab_s\n",
    "    lab_s.append(opt_labor)\n",
    "    \n",
    "    # Appending in the calculated government spending into the array gov_c\n",
    "    gov_c.append(govern_spend)\n",
    "\n",
    "    # Appending in the calculated worker utility into the array work_u\n",
    "    work_u.append(utility)\n",
    "\n",
    "# Plotting\n",
    "plt.figure(figsize=(10, 6))\n",
    "\n",
    "# Labor Supply plot\n",
    "plt.subplot(2, 2, 1)\n",
    "plt.plot(tau_v, lab_s, color='blue', linewidth=3)\n",
    "plt.xlabel('Tau')\n",
    "plt.ylabel('Labor hours (L)')\n",
    "plt.title('Labor hours against Tax rate (Tau)')\n",
    "plt.grid(True)\n",
    "\n",
    "# Government Consumption plot\n",
    "plt.subplot(2, 2, 2)\n",
    "plt.plot(tau_v, gov_c, color='red', linewidth=3)\n",
    "plt.xlabel('Tau')\n",
    "plt.ylabel('Government consumption (G)')\n",
    "plt.title('Government consumption against Tax rate (Tau)')\n",
    "plt.grid(True)\n",
    "\n",
    "# Worker Utility plot\n",
    "plt.subplot(2, 2, 3)\n",
    "plt.plot(tau_v, work_u, color='green', linewidth=3)\n",
    "plt.xlabel('Tau')\n",
    "plt.ylabel('Worker utility')\n",
    "plt.title('Worker utility against Tax rate (Tau)')\n",
    "plt.grid(True)\n",
    "\n",
    "plt.tight_layout()\n",
    "plt.show()"
   ]
  },
  {
   "attachments": {},
   "cell_type": "markdown",
   "metadata": {},
   "source": [
    "We see from the three graphs, that our analysis seems to be in accordance to our theoretical expectations. The incentive for labor hours diminish faster when taxation becomes sufficiently higher. The government consumption seem to increase until at certain point of taxation, where the low labor hours of the workers will be too diminished for the government to receive any taxation revenue. The worker utility seems to favour a more balanced taxation, which makes sense, when you consider that the worker has an equal preference of private and governmental consumption ($\\alpha = 0.5$)."
   ]
  },
  {
   "attachments": {},
   "cell_type": "markdown",
   "metadata": {},
   "source": [
    "**Question 4:** Find the socially optimal tax rate $\\tau^{\\star}\\in(0,1)$ maximizing worker utility. Illustrate your result."
   ]
  },
  {
   "attachments": {},
   "cell_type": "markdown",
   "metadata": {},
   "source": [
    "We construct the worker utility as a function of $\\tau$ in the same way as in problem 1.3, but now with 1000 values of $\\tau$ instead of 100. We then find the value of $\\tau$ that maximises worker utility, which we interpret as the social optimal."
   ]
  },
  {
   "cell_type": "code",
   "execution_count": 6,
   "metadata": {},
   "outputs": [
    {
     "data": {
      "image/png": "[encoded data removed]",
      "text/plain": [
       "<Figure size 640x480 with 1 Axes>"
      ]
     },
     "metadata": {},
     "output_type": "display_data"
    },
    {
     "name": "stdout",
     "output_type": "stream",
     "text": [
      "Optimal tax rate (tau): 0.51\n",
      "Maximized worker utility: 1.86\n"
     ]
    }
   ],
   "source": [
    "# Setting the parameters values\n",
    "alpha = 0.5\n",
    "kappa = 1.0\n",
    "nu = 1 / (2 * 16**2)\n",
    "w = 1.0\n",
    "\n",
    "# Setting the values for tau\n",
    "tau_v = np.linspace(0.001, 0.999, 1000)  \n",
    "\n",
    "# Making an empty array, where we can store the for loop values in\n",
    "worker_u = []\n",
    "\n",
    "# finding the worker utility when running through the different tau_v between 0 and 1\n",
    "for tau in tau_v:\n",
    "    tilde_w = (1 - tau) * w\n",
    "    \n",
    "    # Finding the optimal value for labor supply\n",
    "    opt_l = (-kappa + np.sqrt(kappa**2 + 4 * (alpha / nu) * tilde_w**2)) / (2 * tilde_w)\n",
    "    \n",
    "    # Finding the optimal government spending when we have found the optimal labor supply\n",
    "    govern_spend = tau * w * opt_l\n",
    "\n",
    "    # When found the optimal labor and government spending it can be plugged into the utility function and hereby find the worker utility\n",
    "    utility = np.log((kappa + (1 - tau) * w * opt_l)**alpha * govern_spend**(1 - alpha)) - (nu * opt_l**2) / 2\n",
    "\n",
    "    # Appending the above calculated utility into the list\n",
    "    worker_u.append(utility)\n",
    "\n",
    "# Finding the socially optimal tax rate\n",
    "optimal_tau_index = np.argmax(worker_u)\n",
    "optimal_tau = tau_v[optimal_tau_index]\n",
    "optimal_utility = worker_u[optimal_tau_index]\n",
    "\n",
    "# Plotting the worker utility against tax rate, tau.\n",
    "plt.plot(tau_v, worker_u, color='green', linewidth=3)\n",
    "plt.scatter(optimal_tau, optimal_utility, color='black', label='Optimal tau', s=75)\n",
    "plt.xlabel('Tau')\n",
    "plt.ylabel('Worker Utility')\n",
    "plt.title('Worker Utility against Tax Rate (tau)')\n",
    "plt.legend(bbox_to_anchor = (1 , 1))\n",
    "plt.grid(True)\n",
    "plt.show()\n",
    "\n",
    "# Printing the optimal tax rate and max. worker utility\n",
    "print(\"Optimal tax rate (tau): {:.2f}\".format(optimal_tau))\n",
    "print(\"Maximized worker utility: {:.2f}\".format(optimal_utility))"
   ]
  },
  {
   "attachments": {},
   "cell_type": "markdown",
   "metadata": {},
   "source": [
    "We then find that the optimal tax rate is $0.51$ and that gives the worker utility of $1.86$"
   ]
  },
  {
   "attachments": {},
   "cell_type": "markdown",
   "metadata": {},
   "source": [
    "A more general preference formulation for the worker is:\n",
    "\n",
    "$$\n",
    "\\begin{align*}\n",
    "\\mathcal{V}(w,\\tau,G)&=\\max_{L\\in[0,24]}\\frac{\\left[ \\left( \\alpha C^{\\frac{\\sigma-1}{\\sigma}}+(1-\\alpha) G^{\\frac{\\sigma-1}{\\sigma}} \\right)^{\\frac{\\sigma}{\\sigma-1} }\\right]^{1-\\rho}-1}{1-\\rho}- \\nu\\frac{L^{1+\\varepsilon}}{1+\\varepsilon},\\,\\,\\,\\varepsilon,\\rho,\\sigma>0,\\,\\,\\,\\rho,\\sigma\\neq1\\\\&\\text{s.t.}\\\\&C=\\kappa+(1-\\tau)wL\n",
    "\\end{align*}    \n",
    "$$\n",
    "\n",
    "Optimal labor supply is now $L^{\\star}(\\tilde{w},G)$."
   ]
  },
  {
   "attachments": {},
   "cell_type": "markdown",
   "metadata": {},
   "source": [
    "Questions 5 and 6 must be answered with the general formulation, and for 2 different set of parameters:\n",
    "\n",
    "- Set 1:  $\\sigma = 1.001$, $\\rho = 1.001$ and $\\varepsilon = 1.0$.\n",
    "- Set 2:  $\\sigma = 1.5$, $\\rho = 1.5$ and $\\varepsilon = 1.0 $."
   ]
  },
  {
   "attachments": {},
   "cell_type": "markdown",
   "metadata": {},
   "source": [
    "**Question 5:** Find the $G$ that solves $G = \\tau w L^{\\star}((1-\\tau)w,G)$ using the $\\tau$ found in question 4.\n",
    "\n",
    "*Hint: First write code that solves the worker problem for given values of $G$ and $\\tau$. Then find the correct G based on this.*"
   ]
  },
  {
   "attachments": {},
   "cell_type": "markdown",
   "metadata": {},
   "source": [
    "We have to find the $G$ that solves the given equation. To do this we maximise to find the $L^*$ value and then we find a general solution for G. Next we insert the values for set 1 and set 2.\n"
   ]
  },
  {
   "cell_type": "code",
   "execution_count": 7,
   "metadata": {},
   "outputs": [
    {
     "name": "stdout",
     "output_type": "stream",
     "text": [
      "Set 1: G = 7.710581392679844\n",
      "Set 2: G = 4.974885272151633\n"
     ]
    }
   ],
   "source": [
    "import scipy.optimize as opt\n",
    "\n",
    "def labor_sup(w, tau, G, sigma, rho, epsilon):\n",
    "    # Defining the general preference formulation for the worker with the secondary condition\n",
    "    def objec(L, w, tau, G, sigma, rho, epsilon):\n",
    "        C = kappa + (1 - tau) * w * L\n",
    "        value = (((alpha * C**((sigma-1)/sigma) + (1 - alpha) * G**((sigma-1)/sigma))**(sigma/(sigma-1)))**(1-rho) - 1)/(1-rho) - nu * (L**(1+epsilon))/(1+epsilon)\n",
    "        return -value  # Negative value for maximization\n",
    "    \n",
    "    # Maximizing to find the L star value, where the negative value of the objec function is taken and minimizing, which gives maximization\n",
    "    L_star = opt.minimize_scalar(objec, bounds=(0, 24), args=(w, tau, G, sigma, rho, epsilon), method='bounded').x\n",
    "    return L_star\n",
    "\n",
    "# Using the function that is given for G that needs to be used\n",
    "def find_G(tau, sigma, rho, epsilon):\n",
    "    def equa(G, w, tau, sigma, rho, epsilon):\n",
    "        return G - tau * w * labor_sup(w, tau, G, sigma, rho, epsilon)\n",
    "    \n",
    "    result = opt.root_scalar(equa, args=(w, tau, sigma, rho, epsilon), method='brentq', bracket=(0, 1000))\n",
    "    G_sol = result.root\n",
    "    return G_sol\n",
    "\n",
    "# Setting the relevant parameter values\n",
    "alpha = 0.5\n",
    "kappa = 1.0\n",
    "nu = 1 / (2 * 16**2)\n",
    "w = 1.0\n",
    "tau = optimal_tau\n",
    "\n",
    "# Given parameter values for set 1\n",
    "sigma_s1 = 1.001\n",
    "rho_s1 = 1.001\n",
    "epsilon_s1 = 1.0\n",
    "\n",
    "# Given parameter values for set 2\n",
    "sigma_s2 = 1.5\n",
    "rho_s2 = 1.5\n",
    "epsilon_s2 = 1.0\n",
    "\n",
    "# Calculate G for Set 1 and printing it after\n",
    "G_solution_set1 = find_G(tau, sigma_s1, rho_s1, epsilon_s1)\n",
    "print(\"Set 1: G =\", G_solution_set1)\n",
    "\n",
    "# Calculate G for Set 2 and printing it after\n",
    "G_solution_set2 = find_G(tau, sigma_s2, rho_s2, epsilon_s2)\n",
    "print(\"Set 2: G =\", G_solution_set2)"
   ]
  },
  {
   "attachments": {},
   "cell_type": "markdown",
   "metadata": {},
   "source": [
    "The results we get for set 1 is that the government consumption $G$ should be equal to 7.71. The result for the government consumption with set 2 is 4.97."
   ]
  },
  {
   "attachments": {},
   "cell_type": "markdown",
   "metadata": {},
   "source": [
    "**Question 6:** Find the socially optimal tax rate, $\\tau^{\\star}$, maximizing worker utility, while keeping $G = \\tau w L^{\\star}((1-\\tau)w,G)$."
   ]
  },
  {
   "attachments": {},
   "cell_type": "markdown",
   "metadata": {},
   "source": [
    "To find the socially optimal $\\tau^*$ we find $L^*$ in the equation for government consumption and then we solve for $\\tau$. "
   ]
  },
  {
   "cell_type": "code",
   "execution_count": 8,
   "metadata": {},
   "outputs": [
    {
     "name": "stdout",
     "output_type": "stream",
     "text": [
      "Set 1: Socially optimal tax rate (tau*): 0.5144854372415884\n",
      "Set 2: Socially optimal tax rate (tau*): 0.5144854854859953\n"
     ]
    },
    {
     "name": "stderr",
     "output_type": "stream",
     "text": [
      "/var/folders/1t/g6pbwy2d0xs212cq6dztdzn80000gn/T/ipykernel_71144/2375700040.py:7: RuntimeWarning: invalid value encountered in double_scalars\n",
      "  value = (((alpha * C**((sigma-1)/sigma) + (1 - alpha) * G**((sigma-1)/sigma))**(sigma/(sigma-1)))**(1-rho) - 1)/(1-rho) - nu * (L**(1+epsilon))/(1+epsilon)\n"
     ]
    }
   ],
   "source": [
    "import scipy.optimize as opt\n",
    "\n",
    "def labor_sup(w, tau, G, sigma, rho, epsilon):\n",
    "    # Defining the general preference formulation for the worker with the secondary condition\n",
    "    def objec(L, w, tau, G, sigma, rho, epsilon):\n",
    "        C = kappa + (1 - tau) * w * L\n",
    "        value = (((alpha * C**((sigma-1)/sigma) + (1 - alpha) * G**((sigma-1)/sigma))**(sigma/(sigma-1)))**(1-rho) - 1)/(1-rho) - nu * (L**(1+epsilon))/(1+epsilon)\n",
    "        return -value  # Negative value for maximization\n",
    "    \n",
    "    # Maximizing to find the L star value, where the negative value of the objec function is taken and minimizing, which gives maximization\n",
    "    L_star = opt.minimize_scalar(objec, bounds=(0, 24), args=(w, tau, G, sigma, rho, epsilon), method='bounded').x\n",
    "    return L_star\n",
    "\n",
    "# Function for finding tau star, which is done through finding the L star, because of the given equation for government spending\n",
    "def tau_star(G, sigma, rho, epsilon):\n",
    "    # The government spending equation\n",
    "    def equa(tau, w, G, sigma, rho, epsilon):\n",
    "        L_star = labor_sup(w, tau, G, sigma, rho, epsilon)\n",
    "        return G - tau * w * L_star\n",
    "    \n",
    "    # A valid bracket for tau is between 0 and 1 because the tax rate cannot be lower than 0% and higher than 100%\n",
    "    a = 0.0\n",
    "    b = 1.0\n",
    "\n",
    "    # This helps with finding the root within the bracket. The bracket will be expanded if the signs are the same\n",
    "    while np.sign(equa(a, w, G, sigma, rho, epsilon)) == np.sign(equa(b, w, G, sigma, rho, epsilon)):\n",
    "        b *= 2.0\n",
    "    \n",
    "    # We now solve for tau within the above bracket, which is between 0 and 1 or 0% and 100%\n",
    "    result = opt.root_scalar(equa, args=(w, G, sigma, rho, epsilon), method='brentq', bracket=(a, b))\n",
    "    tau_star = result.root\n",
    "    return tau_star\n",
    "\n",
    "# We insert the given parameter values\n",
    "alpha = 0.5\n",
    "kappa = 1.0\n",
    "nu = 1 / (2 * 16**2)\n",
    "w = 1.0\n",
    "\n",
    "# Parameter set 1\n",
    "sigma_set1 = 1.001\n",
    "rho_set1 = 1.001\n",
    "epsilon_set1 = 1.0\n",
    "\n",
    "# Parameter set 2\n",
    "sigma_set2 = 1.5\n",
    "rho_set2 = 1.5\n",
    "epsilon_set2 = 1.0\n",
    "\n",
    "# We find here the social optimal tax rate for the parameter set 1 and after print it\n",
    "tau_star_set1 = tau_star(G_solution_set1, sigma_set1, rho_set1, epsilon_set1)\n",
    "print(\"Set 1: Socially optimal tax rate (tau*):\", tau_star_set1)\n",
    "\n",
    "# We find here the social optimal tax rate for the parameter set 2 and after print it\n",
    "tau_star_set2 = tau_star(G_solution_set2, sigma_set2, rho_set2, epsilon_set2)\n",
    "print(\"Set 2: Socially optimal tax rate (tau*):\", tau_star_set2)"
   ]
  },
  {
   "attachments": {},
   "cell_type": "markdown",
   "metadata": {},
   "source": [
    "For the first set of parameters we get a socially optimal tax rate to be 0.514485437 and for the second set of parameters we get the socially optimal tax rate to be 0.5144854854. The two tax rates are almost alike also with the optimal tax rate found in problem 1.4. This is because the optimal tax rate is quite inelastic because both private and government consumption benefit the worker."
   ]
  },
  {
   "attachments": {},
   "cell_type": "markdown",
   "metadata": {},
   "source": [
    "## 2. <a id='toc2_'></a>[Problem 2: Labor adjustment costs](#toc0_)"
   ]
  },
  {
   "attachments": {},
   "cell_type": "markdown",
   "metadata": {},
   "source": [
    "You own a hair salon. You employ hairdressers, $\\ell_t$, to produce haircuts, $y_t = \\ell_t$.\n",
    "\n",
    "The wage for each haridresser is $w$.\n",
    "\n",
    "The demand for haircuts implies that the price of haircuts you can charge is $p_t = \\kappa_t y_t^{-\\eta}$, where $\\kappa_t$ is a demand-shock and $\\eta \\in (0,1)$ measures the elasticity of demand.\n",
    "\n",
    "Profits are:\n",
    "\n",
    "$$\n",
    "\\Pi_t = p_t y_t - w \\ell_t = \\kappa_t \\ell_t^{1-\\eta} - w \\ell_t\n",
    "$$"
   ]
  },
  {
   "attachments": {},
   "cell_type": "markdown",
   "metadata": {},
   "source": [
    "Baseline parameters are:\n",
    "- $\\eta = 0.5$\n",
    "- $w = 1.0$"
   ]
  },
  {
   "attachments": {},
   "cell_type": "markdown",
   "metadata": {},
   "source": [
    "**Question 1:** Verify numerically that $\\ell_{t}=\\left(\\frac{(1-\\eta)\\kappa_{t}}{w}\\right)^{\\frac{1}{\\eta}}$ maximises profits, for $\\kappa\\in\\left\\{1.0 , 2.0\\right\\}$."
   ]
  },
  {
   "attachments": {},
   "cell_type": "markdown",
   "metadata": {},
   "source": [
    "We verify that the given equation of $l_t$ maximises profit by maximising the profit function wrt. $l_t$ within Python given a certain value of $\\kappa$ and comparing it to value of the given $l_t$ equation for the same given $\\kappa$. We do this across a list of different $\\kappa$ values, to check that it only holds for $\\kappa \\in \\{1.0,2.0\\}$."
   ]
  },
  {
   "cell_type": "code",
   "execution_count": 9,
   "metadata": {},
   "outputs": [
    {
     "name": "stdout",
     "output_type": "stream",
     "text": [
      "          Optimal l_t  Optimal profit  L_t value for function\n",
      "Kappa                                                        \n",
      "0.500000     0.062501        0.062500                0.062500\n",
      "1.100000     0.302500        0.302500                0.302500\n",
      "1.500000     0.562500        0.562500                0.562500\n",
      "2.000000     1.000000        1.000000                1.000000\n",
      "2.500000     1.562496        1.562500                1.562500\n"
     ]
    }
   ],
   "source": [
    "from scipy.optimize import minimize\n",
    "\n",
    "# Constants and parameters\n",
    "eta = 0.5\n",
    "w = 1.0\n",
    "\n",
    "# Define the profit function\n",
    "def profit_func(x):\n",
    "    ll_t, kappa = x\n",
    "    return kappa * ll_t ** (1 - eta) - w * ll_t\n",
    "\n",
    "# Define the negative of the profit function (to maximize instead of minimize)\n",
    "def neg_profit_func(x):\n",
    "    return -profit_func(x)\n",
    "\n",
    "# Define the kappa values for the table\n",
    "kappa_values = [0.5, 1.1, 1.5, 2, 2.5]\n",
    "\n",
    "# Create an empty list to store the data\n",
    "data = []\n",
    "\n",
    "# Perform the optimization and populate the data list\n",
    "for kappa in kappa_values:\n",
    "    bounds = [(0, None), (kappa, kappa)]\n",
    "    result = minimize(neg_profit_func, x0=(1, kappa), bounds=bounds)\n",
    "    optimal_ll_t, optimal_kappa = result.x\n",
    "    optimal_profit = -result.fun\n",
    "    l_t = ((1 - eta) * optimal_kappa / w) ** (1 / eta)\n",
    "    data.append({'Kappa': kappa, 'Optimal l_t': optimal_ll_t, 'Optimal profit': optimal_profit, 'L_t value for function': l_t})\n",
    "\n",
    "# Create the table as a DataFrame\n",
    "df = pd.DataFrame(data)\n",
    "df = df.set_index('Kappa')\n",
    "pd.options.display.float_format = '{:.6f}'.format\n",
    "\n",
    "# Print the table\n",
    "print(df)"
   ]
  },
  {
   "attachments": {},
   "cell_type": "markdown",
   "metadata": {},
   "source": [
    "As we see, the values of $l_t$ are the same whether we optimise or insert in the equation when $\\kappa \\in \\{1.0,2.0\\}$, and are not the same outside of the interval."
   ]
  },
  {
   "attachments": {},
   "cell_type": "markdown",
   "metadata": {},
   "source": [
    "We now consider a *dynamic* version of the model.\n",
    "\n",
    "* The demand-shock is a so-called AR(1) in logs, \n",
    "\n",
    "$$\n",
    "\\log \\kappa_{t} = \\rho \\log \\kappa_{t-1} + \\epsilon_{t},\\,\\,\\, \\epsilon_{t+1} \\sim \\mathcal{N}(-0.5\\sigma_{\\epsilon}^2,\\sigma_{\\epsilon})\n",
    "$$\n",
    "\n",
    "* Any hiring or firing implies a fixed adjustment cost, $\\iota > 0 $.\n",
    "* Future profits are discounted with a monthly factor of $R \\in (0,1)$.\n",
    "\n",
    "The initial demand shock is $\\kappa_{-1} = 1$ and the planning horizon is 10 years, i.e. 120 months so $t \\in \\{0,1,2,\\dots,119\\}$. Initially you don't have any employees, $\\ell_{-1}=0$"
   ]
  },
  {
   "attachments": {},
   "cell_type": "markdown",
   "metadata": {},
   "source": [
    "\n",
    "The *ex post* value of the salon is *conditional* on the shock series is:\n",
    "\n",
    "$$\n",
    "h(\\epsilon_0,\\epsilon_1,\\dots,\\epsilon_{119}) = \\left[\\sum_{t=0}^{119}R^{-t}\\left[\\kappa_{t}\\ell_{t}^{1-\\eta}-w\\ell_{t}-\\boldsymbol{1}_{\\ell_{t}\\neq\\ell_{t-1}}\\iota\\right]\\right]\n",
    "$$\n",
    "\n",
    "The *ex ante* expected value of the salon can be approximated by\n",
    "\n",
    "$$\n",
    "H = \\mathbb{E}[h(\\epsilon_0,\\epsilon_1,\\dots,\\epsilon_{119})] \\approx \\frac{1}{K}\\sum_{k=0}^{K-1} h(\\epsilon_0^k,\\epsilon_1^k,\\dots,\\epsilon_{119}^k)\n",
    "$$\n",
    "\n",
    "where each $k\\in\\{0,1,\\dots,K-1\\}$ is a random shock series. Maximizing profitability means maximizing $H$.\n"
   ]
  },
  {
   "attachments": {},
   "cell_type": "markdown",
   "metadata": {},
   "source": [
    "Baseline parameters are: \n",
    "\n",
    "- $\\rho = 0.90$\n",
    "- $\\iota = 0.01$\n",
    "- $\\sigma_{\\epsilon} = 0.10$\n",
    "- $R = \\left(1+0.01\\right)^{1/12}$"
   ]
  },
  {
   "attachments": {},
   "cell_type": "markdown",
   "metadata": {},
   "source": [
    "**Question 2:** Calculate $H$ if the policy  $\\ell_{t}=\\left(\\frac{(1-\\eta)\\kappa_{t}}{w}\\right)^{\\frac{1}{\\eta}}$ from question 1 is followed. Choose $K$ so the approximation is good enough to not affect your results substantially."
   ]
  },
  {
   "attachments": {},
   "cell_type": "markdown",
   "metadata": {},
   "source": [
    "To calculate H, we define the initial shock series and make a loop, which represents the 120 months. To make sure our approximation is as close to the actual true value as possible, we choose the number of simulated shock series to be 1000. Our labor hours are given by the equation in problem 2.1."
   ]
  },
  {
   "cell_type": "code",
   "execution_count": 10,
   "metadata": {},
   "outputs": [
    {
     "name": "stdout",
     "output_type": "stream",
     "text": [
      "H with K equal 1000 = 27.81957901976801\n"
     ]
    }
   ],
   "source": [
    "# Setting the relevant parameter values\n",
    "eta = 0.5\n",
    "w = 1.0\n",
    "rho = 0.90\n",
    "iota = 0.01\n",
    "sigma_epsilon = 0.10\n",
    "R = (1 + 0.01) ** (1 / 12)\n",
    "K = 1000  # Number of shock series to simulate\n",
    "\n",
    "np.random.seed(0)  # Set random seed for reproducibility\n",
    "\n",
    "# Function to calculate salon value for a given shock series (sho_ser)\n",
    "def cal_salon_val(sho_ser):\n",
    "    kappa_t_prev = 1.0  # Initial demand shock\n",
    "    lt_prev = 0.0  # Initial number of employees\n",
    "    salon_val = 0.0  # Initial salon value\n",
    "\n",
    "    # Making a for loop for the range of 0 to 120, which represents the 120 months or 10 years\n",
    "    for t in range(120):\n",
    "        # The AR(1) demand shock equation\n",
    "        kappa_t = np.exp(rho * np.log(kappa_t_prev) + sho_ser[t])\n",
    "\n",
    "        # The policy equation\n",
    "        lt = ((1 - eta) * kappa_t / w) ** (1 / eta)\n",
    "\n",
    "        # The profit function\n",
    "        profit = kappa_t * lt ** (1 - eta) - w * lt - (lt != lt_prev) * iota\n",
    "        discounted_profit = profit * R ** (-t)\n",
    "        salon_val += discounted_profit\n",
    "\n",
    "        kappa_t_prev = kappa_t  # Update for the next period\n",
    "        lt_prev = lt  # Update for the next period\n",
    "\n",
    "    return salon_val\n",
    "\n",
    "salon_val = np.zeros(K)\n",
    "\n",
    "for k in range(K):\n",
    "    sho_ser = np.random.normal(-0.5 * sigma_epsilon ** 2, sigma_epsilon, size=120)\n",
    "    salon_val[k] = cal_salon_val(sho_ser)\n",
    "\n",
    "H = np.mean(salon_val)\n",
    "print(\"H with K equal\", K, \"=\", H)"
   ]
  },
  {
   "attachments": {},
   "cell_type": "markdown",
   "metadata": {},
   "source": [
    "Thus, we get that $H$ for this specific policy is given at 27.82, approximately."
   ]
  },
  {
   "attachments": {},
   "cell_type": "markdown",
   "metadata": {},
   "source": [
    "Next, we consider policies on the form:\n",
    "\n",
    "$$\n",
    "\n",
    "\\ell_{t}=\\begin{cases}\n",
    "\\ell_t^{\\ast}  & \\text{if }\\left|\\ell_{t-1}-\\ell_t^{\\ast} \\right|>\\Delta\\\\\n",
    "\\ell_{t-1} & \\text{else }\n",
    "\\end{cases}\n",
    "\\\\\n",
    "\\text{where}\\,\\,\\ell_t^{\\ast} = \\left(\\frac{(1-\\eta)\\kappa_{t}}{w}\\right)^{\\frac{1}{\\eta}} \\\\\n",
    "\n",
    "$$\n",
    "With $\\Delta \\geq 0$ and $\\Delta = 0$ being the previous policy.\n"
   ]
  },
  {
   "attachments": {},
   "cell_type": "markdown",
   "metadata": {},
   "source": [
    "\n",
    "**Question 3:** Calculate $H$ if the policy above was followed with $\\Delta = 0.05$. Does it improve profitability?"
   ]
  },
  {
   "attachments": {},
   "cell_type": "markdown",
   "metadata": {},
   "source": [
    "To calculate $H$ we set the parameter values and simulate the model with 1000 shock series. Then we generate the demand shocks, calculate the employment level and the profit. Then we calculate $H$ as the average of the objective function values. "
   ]
  },
  {
   "cell_type": "code",
   "execution_count": 11,
   "metadata": {},
   "outputs": [
    {
     "name": "stdout",
     "output_type": "stream",
     "text": [
      "H with policy Delta = 0.05 : 28.49912709563243\n"
     ]
    }
   ],
   "source": [
    "# Setting the relevant parameter values\n",
    "eta = 0.5\n",
    "w = 1.0\n",
    "rho = 0.90\n",
    "iota = 0.01\n",
    "sigma_epsilon = 0.10\n",
    "R = (1 + 0.01) ** (1 / 12)\n",
    "K = 1000  # Number of shock series to simulate\n",
    "delta = 0.05  # Policy parameter delta\n",
    "\n",
    "np.random.seed(0)  # Set random seed for reproducibility\n",
    "\n",
    "# Function to calculate salon value for a given shock series (sho_ser)\n",
    "def cal_salon_val(sho_ser):\n",
    "    kappa_t_prev = 1.0  # Initial demand shock\n",
    "    lt_prev = 0.0  # Initial number of employees\n",
    "    salon_val = 0.0  # Initial salon value\n",
    "\n",
    "    # Making a for loop for the range of 0 to 120, which represents the 120 months or 10 years\n",
    "    for t in range(120):\n",
    "        # The AR(1) demand shock equation\n",
    "        kappa_t = np.exp(rho * np.log(kappa_t_prev) + sho_ser[t])\n",
    "\n",
    "        # The policy equation\n",
    "        lt_ast = ((1 - eta) * kappa_t / w) ** (1 / eta)\n",
    "\n",
    "        # Check if the employment level should be adjusted\n",
    "        if abs(lt_prev - lt_ast) > delta:\n",
    "            lt = lt_ast\n",
    "        else:\n",
    "            lt = lt_prev\n",
    "\n",
    "        # The profit function\n",
    "        profit = kappa_t * lt ** (1 - eta) - w * lt - (lt != lt_prev) * iota\n",
    "        discounted_profit = profit * R ** (-t)\n",
    "        salon_val += discounted_profit\n",
    "\n",
    "        kappa_t_prev = kappa_t  # Update for the next period\n",
    "        lt_prev = lt  # Update for the next period\n",
    "\n",
    "    return salon_val\n",
    "\n",
    "salon_val = np.zeros(K)\n",
    "\n",
    "for k in range(K):\n",
    "    sho_ser = np.random.normal(-0.5 * sigma_epsilon ** 2, sigma_epsilon, size=120)\n",
    "    salon_val[k] = cal_salon_val(sho_ser)\n",
    "\n",
    "H = np.mean(salon_val)\n",
    "print(\"H with policy Delta =\", delta, \":\", H)"
   ]
  },
  {
   "attachments": {},
   "cell_type": "markdown",
   "metadata": {},
   "source": [
    "We calculated $H$ to be 28.50, which means that with a policy of 0.05 it will improve the profitability of the salon with 28.50. "
   ]
  },
  {
   "attachments": {},
   "cell_type": "markdown",
   "metadata": {},
   "source": [
    "**Question 4:** Find the optimal $\\Delta$ maximizing $H$. Illustrate your result."
   ]
  },
  {
   "attachments": {},
   "cell_type": "markdown",
   "metadata": {},
   "source": [
    "In this problem, we estimate the previous policy, that maximises the $H$ (which is the same as maximising profits). We do this by looping through the possible values of $\\Delta$, and maximise $H$ given the possible demand shocks and time.\n"
   ]
  },
  {
   "cell_type": "code",
   "execution_count": 12,
   "metadata": {},
   "outputs": [
    {
     "data": {
      "image/png": "[encoded data removed]",
      "text/plain": [
       "<Figure size 640x480 with 1 Axes>"
      ]
     },
     "metadata": {},
     "output_type": "display_data"
    },
    {
     "name": "stdout",
     "output_type": "stream",
     "text": [
      "Optimal Delta: 0.081\n",
      "Maximized H: 28.73\n"
     ]
    }
   ],
   "source": [
    "# Set the parameter values\n",
    "eta = 0.5\n",
    "w = 1.0\n",
    "rho = 0.90\n",
    "iota = 0.01\n",
    "sigma_epsilon = 0.10\n",
    "R = (1 + 0.01) ** (1 / 12)\n",
    "K = 1000  # Number of shock series to simulate\n",
    "\n",
    "# Function to calculate salon value for a given shock series (sho_ser) and delta\n",
    "def cal_salon_val(sho_ser, delta):\n",
    "    kappa_t_prev = 1.0  # Initial demand shock\n",
    "    lt_prev = 0.0  # Initial number of employees\n",
    "    salon_val = 0.0  # Initial salon value\n",
    "\n",
    "    # Making a for loop for the range of 0 to 120, which represents the 120 months or 10 years\n",
    "    for t in range(120):\n",
    "        # The AR(1) demand shock equation\n",
    "        kappa_t = np.exp(rho * np.log(kappa_t_prev) + sho_ser[t])\n",
    "\n",
    "        # The policy equation\n",
    "        lt_ast = ((1 - eta) * kappa_t / w) ** (1 / eta)\n",
    "\n",
    "        # Check if the employment level should be adjusted\n",
    "        if abs(lt_prev - lt_ast) > delta:\n",
    "            lt = lt_ast\n",
    "        else:\n",
    "            lt = lt_prev\n",
    "\n",
    "        # The profit function\n",
    "        profit = kappa_t * lt ** (1 - eta) - w * lt - (lt != lt_prev) * iota\n",
    "        discounted_profit = profit * R ** (-t)\n",
    "        salon_val += discounted_profit\n",
    "\n",
    "        kappa_t_prev = kappa_t  # Update for the next period\n",
    "        lt_prev = lt  # Update for the next period\n",
    "\n",
    "    return salon_val\n",
    "\n",
    "# Define the range of Delta values to consider\n",
    "delta_val = np.linspace(0.0, 1.0, 100)\n",
    "\n",
    "np.random.seed(0)  # Set random seed for reproducibility\n",
    "\n",
    "# Initialize the list to store the results\n",
    "results = []\n",
    "\n",
    "# Define the objective function to maximize\n",
    "def objective(delta):\n",
    "    salon_val = np.zeros(K)\n",
    "    \n",
    "    for k in range(K):\n",
    "        sho_ser = np.random.normal(-0.5 * sigma_epsilon ** 2, sigma_epsilon, size=120)\n",
    "        salon_val[k] = cal_salon_val(sho_ser, delta)\n",
    "    \n",
    "    H = np.mean(salon_val)\n",
    "    return -H  # Negate H for maximization\n",
    "\n",
    "# Find the optimal Delta that maximizes H\n",
    "opt_result = opt.minimize_scalar(objective, bounds=(0, 0.2), method='bounded')\n",
    "\n",
    "# Extract the optimal delta and the corresponding maximized H\n",
    "opt_delta = opt_result.x\n",
    "max_H = -opt_result.fun\n",
    "\n",
    "# Calculate the results for all delta values\n",
    "for delta in delta_val:\n",
    "    result = -objective(delta)\n",
    "    results.append(result)\n",
    "\n",
    "# Plot the results\n",
    "plt.plot(delta_val, results, linestyle='solid')\n",
    "plt.xlabel('Delta')\n",
    "plt.ylabel('H')\n",
    "plt.title('Optimization of H')\n",
    "plt.axvline(x=opt_delta, color='r', linestyle='--', label='Optimal Delta')\n",
    "plt.legend()\n",
    "plt.grid(True)\n",
    "plt.show()\n",
    "\n",
    "print(\"Optimal Delta: {:.3f}\".format(opt_delta))\n",
    "print(\"Maximized H: {:.2f}\".format(max_H))"
   ]
  },
  {
   "attachments": {},
   "cell_type": "markdown",
   "metadata": {},
   "source": [
    "The optimal previous policy, $\\Delta$, to optimise $H$ is 0.081, which gives us an H 28.73, which is the optimal profitability of the saloon. "
   ]
  },
  {
   "attachments": {},
   "cell_type": "markdown",
   "metadata": {},
   "source": [
    "\n",
    "**Question 5:** Suggest an alternative policy you believe might improve profitability. Implement and test your policy.\n",
    "\n"
   ]
  },
  {
   "attachments": {},
   "cell_type": "markdown",
   "metadata": {},
   "source": [
    "We could imagine, that by taking a greater amount of previous observations of $l_t$ into account and clearing these values by finding the mean value, the salon would have a clearer view of the deviation from the optimal amount of $l_t$, which could lead to higher profits. In other words, when we have more information, the decision-making becomes better, and the profits could rise. We therefore will take into account the last 3 periods of policy and therefore change the following equations to this:\n",
    "\n",
    "\n",
    "$$\n",
    "h(\\epsilon_0,\\epsilon_1,\\dots,\\epsilon_{119}) = \\left[\\sum_{t=0}^{119}R^{-t}\\left[\\kappa_{t}\\ell_{t}^{1-\\eta}-w\\ell_{t}-\\boldsymbol{1}_{\\ell_{t}\\neq\\mathbb{E}[\\ell_{t-3}+\\ell_{t-2}+\\ell_{t-1}]}\\iota\\right]\\right]\n",
    "$$\n",
    "\n",
    "$$\n",
    "\n",
    "\\ell_{t}=\\begin{cases}\n",
    "\\ell_t^{\\ast}  & \\text{if }\\left|\\mathbb{E}[\\ell_{t-3}+\\ell_{t-2}+\\ell_{t-1}]-\\ell_t^{\\ast} \\right|>\\Delta\\\\\n",
    "\\mathbb{E}[\\ell_{t-3}+\\ell_{t-2}+\\ell_{t-1}] & \\text{else }\n",
    "\\end{cases}\n",
    "\\\\\n",
    "\\text{where}\\,\\,\\ell_t^{\\ast} = \\left(\\frac{(1-\\eta)\\kappa_{t}}{w}\\right)^{\\frac{1}{\\eta}} \\\\\n",
    "\n",
    "$$"
   ]
  },
  {
   "cell_type": "code",
   "execution_count": 13,
   "metadata": {},
   "outputs": [
    {
     "name": "stdout",
     "output_type": "stream",
     "text": [
      "H with policy Delta = 0.05 : 27.825907521900508\n"
     ]
    }
   ],
   "source": [
    "# Setting the relevant parameter values\n",
    "eta = 0.5\n",
    "w = 1.0\n",
    "rho = 0.90\n",
    "iota = 0.01\n",
    "sigma_epsilon = 0.10\n",
    "R = (1 + 0.01) ** (1 / 12)\n",
    "K = 1000  # Number of shock series to simulate\n",
    "delta = 0.05  # Policy parameter delta\n",
    "\n",
    "np.random.seed(0)  # Set random seed for reproducibility\n",
    "\n",
    "# Function to calculate salon value for a given shock series (sho_ser)\n",
    "def cal_salon_val(sho_ser):\n",
    "    kappa_t_prev = 1.0  # Initial demand shock\n",
    "    lt_prev_t_minus_1 = 0.0  # Initial number of employees for 1 period ago\n",
    "    lt_prev_t_minus_2 = 0.0  # Initial number of employees for 2 periods ago\n",
    "    lt_prev_t_minus_3 = 0.0  # Initial number of employees for 3 periods ago\n",
    "    salon_val = 0.0  # Initial salon value\n",
    "\n",
    "    # Making a for loop for the range of 0 to 120, which represents the 120 months or 10 years\n",
    "    for t in range(120):\n",
    "        # The AR(1) demand shock equation\n",
    "        kappa_t = np.exp(rho * np.log(kappa_t_prev) + sho_ser[t])\n",
    "\n",
    "        # The policy equation\n",
    "        lt_ast = ((1 - eta) * kappa_t / w) ** (1 / eta)\n",
    "\n",
    "        # Check if the employment level should be adjusted\n",
    "        if abs(np.mean(lt_prev_t_minus_1+lt_prev_t_minus_2+lt_prev_t_minus_3) - lt_ast) > delta:\n",
    "            lt = lt_ast\n",
    "        else:\n",
    "            lt = np.mean(lt_prev_t_minus_1+lt_prev_t_minus_2+lt_prev_t_minus_3)\n",
    "\n",
    "        # The profit function\n",
    "        profit = kappa_t * lt ** (1 - eta) - w * lt - (lt != np.mean(lt_prev_t_minus_1+lt_prev_t_minus_2+lt_prev_t_minus_3)) * iota\n",
    "        discounted_profit = profit * R ** (-t)\n",
    "        salon_val += discounted_profit\n",
    "\n",
    "        kappa_t_prev = kappa_t  # Update for the next period\n",
    "        lt_prev_t_minus_3 = lt_prev_t_minus_2  # Update for the next period\n",
    "        lt_prev_t_minus_2 = lt_prev_t_minus_1  # Update for the next period\n",
    "        lt_prev_t_minus_1 = lt  # Update for the next period\n",
    "\n",
    "\n",
    "    return salon_val\n",
    "\n",
    "salon_val = np.zeros(K)\n",
    "\n",
    "for k in range(K):\n",
    "    sho_ser = np.random.normal(-0.5 * sigma_epsilon ** 2, sigma_epsilon, size=120)\n",
    "    salon_val[k] = cal_salon_val(sho_ser)\n",
    "\n",
    "H = np.mean(salon_val)\n",
    "print(\"H with policy Delta =\", delta, \":\", H)"
   ]
  },
  {
   "attachments": {},
   "cell_type": "markdown",
   "metadata": {},
   "source": [
    "We actually get a result which is lower compared to the result from question 2.3. This is not what we have expecteced, but we still see this as a more precise and correct result to estimate the profit of the salon."
   ]
  },
  {
   "attachments": {},
   "cell_type": "markdown",
   "metadata": {},
   "source": [
    "## 3. <a id='toc3_'></a>[Problem 3: Global optimizer with refined multi-start](#toc0_)"
   ]
  },
  {
   "attachments": {},
   "cell_type": "markdown",
   "metadata": {},
   "source": [
    "We consider the Griewank function:\n",
    "\n",
    "$$ f(\\boldsymbol{x}) = \\sum^n_{i=1} \\frac{x^2_i}{4000}-\\prod^n_{i=1}\\cos\\left(\\frac{x_i}{\\sqrt{i}}\\right)+1$$\n",
    "\n",
    "The **global minimum** of this function is $f(0,0) = 0$ (remember: $\\cos(0)=1$).<br>\n",
    "But the function also have a lot of **local minima**."
   ]
  },
  {
   "cell_type": "code",
   "execution_count": 14,
   "metadata": {},
   "outputs": [],
   "source": [
    "def griewank(x):\n",
    "    return griewank_(x[0],x[1])\n",
    "    \n",
    "def griewank_(x1,x2):\n",
    "    A = x1**2/4000 + x2**2/4000\n",
    "    B = np.cos(x1/np.sqrt(1))*np.cos(x2/np.sqrt(2))\n",
    "    return A-B+1"
   ]
  },
  {
   "attachments": {},
   "cell_type": "markdown",
   "metadata": {},
   "source": [
    "A **refined global optimizer with multi-start** is:\n",
    "\n",
    "1. Choose *bounds* for $\\mathbf{x}$ and *tolerance* $\\tau > 0$.\n",
    "2. Choose number of *warm-up iterations*, $\\underline{K} > 0$ and *maximum number of iterations*, $K > \\underline{K}$.\n",
    "3. In each iteration for $k \\in \\{0,1,\\dots,K-1\\}$:\n",
    "\n",
    "    A. Draw random $\\mathbf{x}^k$ uniformly within chosen bounds.\n",
    "\n",
    "    B. If $k < \\underline{K}$ go to step E.\n",
    "\n",
    "    C. Calculate $\\chi^k = 0.50\\cdot\\frac{2}{1+\\exp((k-\\underline{K})/100)}$  \n",
    "\n",
    "    D. Set $\\mathbf{x}^{k0} = \\chi^k \\mathbf{x}^k + (1-\\chi^k)\\mathbf{x}^{\\ast} $\n",
    "\n",
    "    E. Run optimizer with $\\mathbf{x}^{k0}$ as initial guess and $\\mathbf{x}^{k\\ast}$ as result.\n",
    "\n",
    "    F. Set $\\mathbf{x}^{\\ast} = \\mathbf{x}^{k\\ast}$ if $k = 0$ or $f(\\mathbf{x}^{k\\ast}) < f(\\mathbf{x}^{\\ast})$\n",
    "\n",
    "    G. If $f(\\mathbf{x}^{\\ast}) < \\tau$ go to step 4.\n",
    "\n",
    "4. Return the result $\\mathbf{x}^{\\ast}$."
   ]
  },
  {
   "attachments": {},
   "cell_type": "markdown",
   "metadata": {},
   "source": [
    "As settings we choose:\n",
    "\n",
    "* $x_1,x_2 \\in  [-600,600]$\n",
    "* $\\tau = 10^{-8}$\n",
    "* $\\underline{K}=10$\n",
    "* $K=1000$\n",
    "\n",
    "The optimizer in Step 3.E is `BFGS` with a tolerance of $\\tau$."
   ]
  },
  {
   "attachments": {},
   "cell_type": "markdown",
   "metadata": {},
   "source": [
    "**Question 1:** Implement the refined global optimizer with multi-start. Illustrate how the effective initial guesses $\\mathbf{x}^{k0}$ vary with the iteration counter $k$."
   ]
  },
  {
   "attachments": {},
   "cell_type": "markdown",
   "metadata": {},
   "source": [
    "We setup the above griewank process for finding the global optimum. "
   ]
  },
  {
   "cell_type": "code",
   "execution_count": 15,
   "metadata": {},
   "outputs": [
    {
     "name": "stdout",
     "output_type": "stream",
     "text": [
      "Optimization Result:\n",
      "x_ast = [-8.48060098e-09  5.55288883e-10], f(x_ast) = 0.0\n"
     ]
    }
   ],
   "source": [
    "def refined_global_optimizer(bounds, tolerance, lower_K, upper_K):\n",
    "    x_best = None\n",
    "    f_best = np.inf\n",
    "\n",
    "    for k in range(upper_K):\n",
    "        x_k = np.random.uniform(bounds[0], bounds[1], size=2)\n",
    "\n",
    "        if k >= lower_K:\n",
    "            chi_k = 0.5 * (2 / (1 + np.exp((k - lower_K) / 100)))\n",
    "            x_k0 = chi_k * x_k + (1 - chi_k) * x_best\n",
    "            x0 = x_k0\n",
    "        else:\n",
    "            x0 = x_k\n",
    "\n",
    "        result = minimize(griewank, x0, method='BFGS', tol=tolerance)\n",
    "        x_k_ast = result.x\n",
    "        f_k_ast = result.fun\n",
    "\n",
    "        if k == 0 or f_k_ast < f_best:\n",
    "            x_best = x_k_ast\n",
    "            f_best = f_k_ast\n",
    "\n",
    "        if f_best < tolerance:\n",
    "            break\n",
    "\n",
    "    return x_best\n",
    "\n",
    "np.random.seed(0)  # Set random seed for reproducibility\n",
    "\n",
    "# Settings\n",
    "bounds = [-600, 600]\n",
    "tolerance = 1e-8\n",
    "lower_K = 10\n",
    "upper_K = 1000\n",
    "\n",
    "# Run the optimizer\n",
    "x_ast = refined_global_optimizer(bounds, tolerance, lower_K, upper_K)\n",
    "\n",
    "print(\"Optimization Result:\")\n",
    "print(f\"x_ast = {x_ast}, f(x_ast) = {griewank(x_ast)}\")\n"
   ]
  },
  {
   "attachments": {},
   "cell_type": "markdown",
   "metadata": {},
   "source": [
    "The value we get with a $k$-value on 10 is close to the optimal Griewank result is $(0,0)$."
   ]
  },
  {
   "attachments": {},
   "cell_type": "markdown",
   "metadata": {},
   "source": [
    "**Question 2:** Is it a better idea to set $\\underline{K} = 100$? Is the convergence faster?"
   ]
  },
  {
   "attachments": {},
   "cell_type": "markdown",
   "metadata": {},
   "source": [
    "We now take the code from question 3.1 and implement the K value for 100 instead of 10, and see what the difference is:"
   ]
  },
  {
   "cell_type": "code",
   "execution_count": 16,
   "metadata": {},
   "outputs": [
    {
     "name": "stdout",
     "output_type": "stream",
     "text": [
      "Optimization Result (lower_K = 10):\n",
      "x_ast = [-8.48060098e-09  5.55288883e-10], f(x_ast) = 0.0\n",
      "Optimization Result (lower_K = 100):\n",
      "x_ast = [-8.97861058e-09  1.58991965e-09], f(x_ast) = 0.0\n"
     ]
    }
   ],
   "source": [
    "def refined_global_optimizer(bounds, tolerance, lower_K, upper_K):\n",
    "    x_best = None\n",
    "    f_best = np.inf\n",
    "\n",
    "    for k in range(upper_K):\n",
    "        x_k = np.random.uniform(bounds[0], bounds[1], size=2)\n",
    "\n",
    "        if k >= lower_K:\n",
    "            chi_k = 0.5 * (2 / (1 + np.exp((k - lower_K) / 100)))\n",
    "            x_k0 = chi_k * x_k + (1 - chi_k) * x_best\n",
    "            x0 = x_k0\n",
    "        else:\n",
    "            x0 = x_k\n",
    "\n",
    "        result = minimize(griewank, x0, method='BFGS', tol=tolerance)\n",
    "        x_k_ast = result.x\n",
    "        f_k_ast = result.fun\n",
    "\n",
    "        if k == 0 or f_k_ast < f_best:\n",
    "            x_best = x_k_ast\n",
    "            f_best = f_k_ast\n",
    "\n",
    "        if f_best < tolerance:\n",
    "            break\n",
    "\n",
    "    return x_best\n",
    "\n",
    "np.random.seed(0)  # Set random seed for reproducibility\n",
    "\n",
    "# Settings\n",
    "bounds = [-600, 600]\n",
    "tolerance = 1e-8\n",
    "\n",
    "# Run the optimizer with lower_K = 10\n",
    "lower_K_10 = 10\n",
    "upper_K = 1000\n",
    "x_ast_lower_K_10 = refined_global_optimizer(bounds, tolerance, lower_K_10, upper_K)\n",
    "\n",
    "# Run the optimizer with lower_K = 100\n",
    "lower_K_100 = 100\n",
    "x_ast_lower_K_100 = refined_global_optimizer(bounds, tolerance, lower_K_100, upper_K)\n",
    "\n",
    "print(\"Optimization Result (lower_K = 10):\")\n",
    "print(f\"x_ast = {x_ast}, f(x_ast) = {griewank(x_ast)}\")\n",
    "\n",
    "print(\"Optimization Result (lower_K = 100):\")\n",
    "print(f\"x_ast = {x_ast_lower_K_100}, f(x_ast) = {griewank(x_ast_lower_K_100)}\")"
   ]
  },
  {
   "attachments": {},
   "cell_type": "markdown",
   "metadata": {},
   "source": [
    "Both results comes very close to (0,0), which is shown as the x_ast. We can see that the optimization with K=100 gives a closer result to (0,0). It still shows that by changing the K from 10 to 100 does not make a significant effect. Both the function value is (0,0) in the optimizations. "
   ]
  },
  {
   "attachments": {},
   "cell_type": "markdown",
   "metadata": {},
   "source": [
    "Both settings of lower_k have successfully found the global minimum of the Griewank function. This is found to be f(0,0)=0. We can here see that lower_k=100 gives the function value of zero, but where the lower_k=10 gives a global minimum close to zero, but not zero. By increasing the value of lower_k it has been seen that it gives a better precision in finding the global minimum.\n",
    "\n",
    "Overall, the refined global optimizer with multi-start has successfully converged to the global minimum of the Griewank function, and increasing the value of lower_K to 100 has improved the precision slightly but did not significantly affect the final optimization outcome."
   ]
  }
 ],
 "metadata": {
  "kernelspec": {
   "display_name": "base",
   "language": "python",
   "name": "python3"
  },
  "language_info": {
   "codemirror_mode": {
    "name": "ipython",
    "version": 3
   },
   "file_extension": ".py",
   "mimetype": "text/x-python",
   "name": "python",
   "nbconvert_exporter": "python",
   "pygments_lexer": "ipython3",
   "version": "3.9.13"
  },
  "orig_nbformat": 4,
  "vscode": {
   "interpreter": {
    "hash": "37445c39a4c14a4ac365d179b73481d52ed161c0a9df849c43b6cb450023e6c9"
   }
  }
 },
 "nbformat": 4,
 "nbformat_minor": 2
}
