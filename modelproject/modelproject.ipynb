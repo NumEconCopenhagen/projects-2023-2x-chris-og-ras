{
 "cells": [
  {
   "attachments": {},
   "cell_type": "markdown",
   "metadata": {},
   "source": [
    "# Model project - Solow models"
   ]
  },
  {
   "cell_type": "code",
   "execution_count": 1,
   "metadata": {},
   "outputs": [],
   "source": [
    "import numpy as np\n",
    "from scipy.optimize import fsolve\n",
    "import matplotlib.pyplot as plt\n",
    "from ipywidgets import interact\n",
    "import scipy.optimize as so\n",
    "\n",
    "# autoreload modules when code is run\n",
    "%load_ext autoreload\n",
    "%autoreload 2\n",
    "\n",
    "# local modules\n",
    "import modelproject as mp\n",
    "Romer = mp.Romer()\n",
    "Solow = mp.Solow()\n",
    "SemiEndogenousRD = mp.SemiEndogenousRomer()"
   ]
  },
  {
   "attachments": {},
   "cell_type": "markdown",
   "metadata": {},
   "source": [
    "We look at two models: The Solow-model with land as production input and the semi-endogenous Romer-model. The reason why we would like to examine these two models is because the two models have varying returns to scale: Decreasing and increasing, respectively. This means, that the two models have different returns to scale wrt. capital and labor, and they are somewhat interesting to analyze the difference between. "
   ]
  },
  {
   "attachments": {},
   "cell_type": "markdown",
   "metadata": {},
   "source": [
    "# Semiendogenous romer model with R&D"
   ]
  },
  {
   "attachments": {},
   "cell_type": "markdown",
   "metadata": {},
   "source": [
    "$$\n",
    "Y_t = K_t^\\alpha (A_t L_{Y_t})^{1-\\alpha}, 1>\\alpha>0\n",
    "$$\n",
    "$$\n",
    "A_{t+1}-A_t=\\rho A_t^\\phi L_{A_t}^\\lambda, A_0 > 0, 1 ≥ \\lambda > 0\n",
    "$$\n",
    "$$\n",
    "K_{t+1} = sY_t + (1-\\delta)K_t, 0<s<1, 0<\\delta<1, K_0 > 0\n",
    "$$\n",
    "$$\n",
    "L_{t+1}=(1+n)L_t,  n≥0\n",
    "$$\n",
    "$$\n",
    "L_t=L_{Y_t}+L_{A_t}\n",
    "$$\n",
    "$$\n",
    "L_{A_t} = s_R L_t\n",
    "$$\n"
   ]
  },
  {
   "attachments": {},
   "cell_type": "markdown",
   "metadata": {},
   "source": [
    "The semi-endogenous Romer model with R&D is like the general Solow model with regards to inputs, only now it has a split in the labor force between production and R&D, and the technology is a biproduct of the level of laborers employed in the R&D sector. "
   ]
  },
  {
   "cell_type": "code",
   "execution_count": 2,
   "metadata": {},
   "outputs": [
    {
     "name": "stdout",
     "output_type": "stream",
     "text": [
      "Steady state value of Y/L: 1.1077467655024302\n",
      "Steady state value of Y: 3.595831383406064\n",
      "Steady state value of L: 3.246077077711111\n",
      "Steady state value of K: 5.177542279837248\n",
      "Steady state value of A: 0.9629661979212158\n",
      "Steady state value of LA: 0.6492154155422223\n"
     ]
    }
   ],
   "source": [
    "Y_per_L_ss, Y_ss, L_ss, K_ss, A_ss, LA_ss = Romer.steady_state_values()\n",
    "print(f\"Steady state value of Y/L: {Y_per_L_ss}\")\n",
    "print(f\"Steady state value of Y: {Y_ss}\")\n",
    "print(f\"Steady state value of L: {L_ss}\")\n",
    "print(f\"Steady state value of K: {K_ss}\")\n",
    "print(f\"Steady state value of A: {A_ss}\")\n",
    "print(f\"Steady state value of LA: {LA_ss}\")"
   ]
  },
  {
   "attachments": {},
   "cell_type": "markdown",
   "metadata": {},
   "source": [
    "The steady state value of GDP pr. capita has positive relationships wrt. the savings rate, $s$, the rivalrousness of ideas, $\\rho$, and the initial population, $L_0$. On the other hand, it has negative relationships with the depreciation of capital, $\\delta$, and population growth, $n$. We do however see unidentifiable effects wrt. the ration of scientists pr. capita, $s_R$ and the semi-endogenous growth rate of technology, $g_{se}$."
   ]
  },
  {
   "cell_type": "code",
   "execution_count": 3,
   "metadata": {},
   "outputs": [
    {
     "data": {
      "image/png": "[encoded data removed]",
      "text/plain": [
       "<Figure size 640x480 with 1 Axes>"
      ]
     },
     "metadata": {},
     "output_type": "display_data"
    }
   ],
   "source": [
    "alpha = Romer.par.alpha\n",
    "rho = Romer.par.rho\n",
    "phi = Romer.par.phi\n",
    "lambda_ = Romer.par.lambda_\n",
    "s = Romer.par.s\n",
    "delta = Romer.par.delta\n",
    "n = Romer.par.n\n",
    "s_R = Romer.par.s_R\n",
    "\n",
    "T = 100 # Number of periods to simulate\n",
    "\n",
    "# Initializing arrays to store the values of the endogenous variables\n",
    "Y_R = np.zeros(T)\n",
    "L_R = np.zeros(T)\n",
    "K_R = np.zeros(T)\n",
    "A_R = np.zeros(T)\n",
    "LA_R = np.zeros(T)\n",
    "Y_per_L = np.zeros(T)\n",
    "\n",
    "# Setting the initial values of the endogenous variables\n",
    "Y_R[0] = 1\n",
    "L_R[0] = 1\n",
    "K_R[0] = 1\n",
    "A_R[0] = 1\n",
    "LA_R[0] = s_R*L_R[0]\n",
    "Y_per_L[0] = Y_R[0]/L_R[0]\n",
    "\n",
    "# Simulating the model\n",
    "for t in range(1, T):\n",
    "    A_R[t] = A_R[t-1] + rho*A_R[t-1]**phi*LA_R[t-1]**lambda_ # Updating A\n",
    "    K_R[t] = s*Y_R[t-1] + (1-delta)*K_R[t-1] # Updating K\n",
    "    L_R[t] = (1+n)*L_R[t-1] # Updating L\n",
    "    LA_R[t] = s_R*L_R[t] # Updating LA\n",
    "    Y_R[t] = A_R[t]*K_R[t]**alpha*L_R[t]**(1-alpha) # Updating Y\n",
    "    Y_per_L[t] = Y_R[t]/L_R[t] # Updating Y/L\n",
    "\n",
    "plt.plot(Y_per_L)\n",
    "plt.title('GDP per worker')\n",
    "plt.xlabel('Time')\n",
    "plt.ylabel('Y/L')\n",
    "plt.show()\n"
   ]
  },
  {
   "attachments": {},
   "cell_type": "markdown",
   "metadata": {},
   "source": [
    "We thus have the path towards steady state for an economy with optimal parameter values. We see, that the economy expresses an exponential growth in GDP pr. capita. \n"
   ]
  },
  {
   "attachments": {},
   "cell_type": "markdown",
   "metadata": {},
   "source": [
    "# Solow-model with land as fixed resource"
   ]
  },
  {
   "attachments": {},
   "cell_type": "markdown",
   "metadata": {},
   "source": [
    "$$\n",
    "Y_t=K_t^\\alpha(A_tL_t)^\\beta X^\\kappa, \\alpha>0, \\beta>0, \\kappa>0, \\alpha+\\beta+\\kappa=1\n",
    "$$\n",
    "$$\n",
    "K_{t+1}=sY_t+(1-\\delta)K_t, 0<s<1, 0<\\delta<1\n",
    "$$\n",
    "$$\n",
    "L_{t+1}=(1+n)L_t, n≥0\n",
    "$$\n",
    "$$\n",
    "A_{t+1}=(1+g)A_t, g≥0\n",
    "$$"
   ]
  },
  {
   "attachments": {},
   "cell_type": "markdown",
   "metadata": {},
   "source": [
    "The Solow model with land as input is constructed by adding land as input in the production function, such that we now have three inputs compared to the two inputs of the general Solow model.  "
   ]
  },
  {
   "cell_type": "code",
   "execution_count": 4,
   "metadata": {},
   "outputs": [
    {
     "name": "stdout",
     "output_type": "stream",
     "text": [
      "Steady state value of Y/L: 1.9999999999999998\n",
      "Steady state value of Y: 1.9999999999999998\n",
      "Steady state value of K: 4.0\n",
      "Steady state value of A: 4.0\n"
     ]
    },
    {
     "name": "stderr",
     "output_type": "stream",
     "text": [
      "/Users/christopher/projects-2023-2x-chris-og-ras/modelproject/modelproject.py:69: RuntimeWarning: invalid value encountered in double_scalars\n",
      "  eq1 = K**par.alpha*(A*par.L)**par.beta*par.X**par.kappa - par.s*K - par.delta*K\n"
     ]
    }
   ],
   "source": [
    "Y_per_L_sss, Y_sss, K_sss, A_sss = Solow.steady_state_values()\n",
    "print(f\"Steady state value of Y/L: {Y_per_L_sss}\")\n",
    "print(f\"Steady state value of Y: {Y_sss}\")\n",
    "print(f\"Steady state value of K: {K_sss}\")\n",
    "print(f\"Steady state value of A: {A_sss}\")"
   ]
  },
  {
   "attachments": {},
   "cell_type": "markdown",
   "metadata": {},
   "source": [
    "The steady state value of GDP pr. capita has positive relationships wrt. the savings rate, $s$, and the land pr. capita ratio, $X/L_t$. It has negative relationships wrt. the depreciation of capital, $\\delta$, the population growth rate, $n$, and the growth rate of technology, $g$."
   ]
  },
  {
   "cell_type": "code",
   "execution_count": 5,
   "metadata": {},
   "outputs": [
    {
     "data": {
      "image/png": "[encoded data removed]",
      "text/plain": [
       "<Figure size 640x480 with 1 Axes>"
      ]
     },
     "metadata": {},
     "output_type": "display_data"
    }
   ],
   "source": [
    "T = 100 # Number of periods to simulate\n",
    "\n",
    "# Initializing arrays to store the values of the endogenous variables\n",
    "Y_S = np.zeros(T)\n",
    "K_S = np.zeros(T)\n",
    "A_S = np.zeros(T)\n",
    "Y_per_L_mland = np.zeros(T)\n",
    "\n",
    "# Setting the initial values of the endogenous variables\n",
    "Y_S[0] = 1\n",
    "K_S[0] = 1\n",
    "A_S[0] = 1\n",
    "Y_per_L_mland[0] = Y_S[0]/Solow.par.L\n",
    "\n",
    "# Simulating the model\n",
    "for t in range(1, T):\n",
    "    A_S[t] = (1+Solow.par.g)*A_S[t-1] # Updating A\n",
    "    K_S[t] = Solow.par.s*Y_S[t-1] + (1-Solow.par.delta)*K_S[t-1] # Updating K\n",
    "    Y_S[t] = K_S[t]**Solow.par.alpha*(A_S[t]*Solow.par.L)**Solow.par.beta*Solow.par.X**Solow.par.kappa # Updating Y\n",
    "    Y_per_L_mland[t] = Y_S[t]/Solow.par.L # Updating Y/L\n",
    "\n",
    "plt.plot(Y_per_L_mland)\n",
    "plt.title('GDP per worker')\n",
    "plt.xlabel('Time')\n",
    "plt.ylabel('Y/L')\n",
    "plt.show()"
   ]
  },
  {
   "attachments": {},
   "cell_type": "markdown",
   "metadata": {},
   "source": [
    "In this model where we have land as a fixed ressource we see that GDP per worker is growing over time with optimal parameters, just like in the general Solow model. However the growth path for the model with land is more linear. "
   ]
  },
  {
   "attachments": {},
   "cell_type": "markdown",
   "metadata": {},
   "source": [
    "# Semi-endogenous R&D model with land as fixed resource"
   ]
  },
  {
   "attachments": {},
   "cell_type": "markdown",
   "metadata": {},
   "source": [
    "This model combines all the equations of the previous models. The reason why we look at this combined model, is because we get the combined dynamics of two relatic models, which in combination should give a more accurate representation of economies. This gives us the following equations:"
   ]
  },
  {
   "attachments": {},
   "cell_type": "markdown",
   "metadata": {},
   "source": [
    "$$\n",
    "Y_t=K_t^\\alpha(A_tL_t)^\\beta X^\\kappa, \\alpha>0, \\beta>0, \\kappa>0, \\alpha+\\beta+\\kappa=1\n",
    "$$\n",
    "$$\n",
    "K_{t+1}=sY_t+(1-\\delta)K_t, 0<s<1, 0<\\delta<1\n",
    "$$\n",
    "$$\n",
    "L_{t+1}=(1+n)L_t, n≥0\n",
    "$$\n",
    "$$\n",
    "A_{t+1} - A_t= \\rho A_t^\\phi L_{A_t}^\\lambda, 1>\\phi, 1≥\\lambda>0\n",
    "$$\n",
    "$$\n",
    "L_t = L_{A_t} + L_{Y_t}\n",
    "$$\n",
    "$$\n",
    "s_R L_t = L_{A_t}\n",
    "$$"
   ]
  },
  {
   "cell_type": "code",
   "execution_count": 6,
   "metadata": {},
   "outputs": [
    {
     "name": "stdout",
     "output_type": "stream",
     "text": [
      "Steady state value of Y/L: 1.430118043991222\n",
      "Steady state value of Y: 1.7876475549890276\n",
      "Steady state value of L: 1.25\n",
      "Steady state value of K: 6.127156317297445\n",
      "Steady state value of A: 0.9629661979212158\n",
      "Steady state value of LA: 0.25\n"
     ]
    }
   ],
   "source": [
    "Y_per_L_ss, Y_ss, L_ss, K_ss, A_ss, LA_ss = SemiEndogenousRD.steady_state_values()\n",
    "\n",
    "print(f\"Steady state value of Y/L: {Y_per_L_ss}\")\n",
    "print(f\"Steady state value of Y: {Y_ss}\")\n",
    "print(f\"Steady state value of L: {L_ss}\")\n",
    "print(f\"Steady state value of K: {K_ss}\")\n",
    "print(f\"Steady state value of A: {A_ss}\")\n",
    "print(f\"Steady state value of LA: {LA_ss}\")"
   ]
  },
  {
   "attachments": {},
   "cell_type": "markdown",
   "metadata": {},
   "source": [
    "The steady state relationships are also simular to the combined relationships of the previous two models."
   ]
  },
  {
   "cell_type": "code",
   "execution_count": 7,
   "metadata": {},
   "outputs": [
    {
     "data": {
      "text/plain": [
       "<matplotlib.legend.Legend at 0x7fddab121d00>"
      ]
     },
     "execution_count": 7,
     "metadata": {},
     "output_type": "execute_result"
    },
    {
     "data": {
      "image/png": "[encoded data removed]",
      "text/plain": [
       "<Figure size 640x480 with 1 Axes>"
      ]
     },
     "metadata": {},
     "output_type": "display_data"
    }
   ],
   "source": [
    "T = 100 # Number of periods to simulate\n",
    "\n",
    "# Initializing arrays to store the values of the endogenous variables\n",
    "Y = np.zeros(T)\n",
    "L = np.zeros(T)\n",
    "K = np.zeros(T)\n",
    "A = np.zeros(T)\n",
    "LA = np.zeros(T)\n",
    "Y_per_L_se = np.zeros(T)\n",
    "\n",
    "# Setting the initial values of the endogenous variables\n",
    "Y[0] = 1\n",
    "L[0] = 1\n",
    "K[0] = 1\n",
    "A[0] = 1\n",
    "LA[0] = 1\n",
    "Y_per_L_se[0] = Y[0]/L[0]\n",
    "\n",
    "# Simulating the model\n",
    "for t in range(1, T):\n",
    "    A[t] = A[t-1] + SemiEndogenousRD.par.rho*A[t-1]**SemiEndogenousRD.par.phi*LA[t-1]**SemiEndogenousRD.par.lambda_ # Updating A\n",
    "    K[t] = SemiEndogenousRD.par.s*Y[t-1] + (1-SemiEndogenousRD.par.delta)*K[t-1] # Updating K\n",
    "    L[t] = (1+SemiEndogenousRD.par.n)*L[t-1] # Updating L\n",
    "    LA[t] = SemiEndogenousRD.par.s_R*L[t]\n",
    "    Y[t] = A[t]*(K[t]**SemiEndogenousRD.par.alpha)*(L[t]**(1-SemiEndogenousRD.par.alpha)) # Updating Y\n",
    "    Y_per_L_se[t] = Y[t]/L[t] # Updating output per worker\n",
    "\n",
    "#Plotting the results\n",
    "fig, ax = plt.subplots()\n",
    "ax.plot(range(T), Y_per_L_se, label='Output per worker')\n",
    "ax.set_xlabel('Time')\n",
    "ax.set_ylabel('Output per worker')\n",
    "ax.legend()"
   ]
  },
  {
   "attachments": {},
   "cell_type": "markdown",
   "metadata": {},
   "source": [
    "We see that GDP pr. worker looks the same for the combined model as the semiendogenous Romer model with R&D."
   ]
  },
  {
   "attachments": {},
   "cell_type": "markdown",
   "metadata": {},
   "source": [
    "# Interactive plot"
   ]
  },
  {
   "attachments": {},
   "cell_type": "markdown",
   "metadata": {},
   "source": [
    "We wil now in the below code combine the three above graphs and plot it with interactive widgets, so the graphs can be seen how they react to changes in the parameters."
   ]
  },
  {
   "cell_type": "code",
   "execution_count": 8,
   "metadata": {},
   "outputs": [
    {
     "data": {
      "application/vnd.jupyter.widget-view+json": {
       "model_id": "69724cfcbd84467e87142002845e8140",
       "version_major": 2,
       "version_minor": 0
      },
      "text/plain": [
       "interactive(children=(FloatSlider(value=0.5, description='alpha', max=1.0), FloatSlider(value=0.5, description…"
      ]
     },
     "metadata": {},
     "output_type": "display_data"
    },
    {
     "data": {
      "text/plain": [
       "<function __main__.restricted_plot(alpha, rho, phi, lambda_, s, delta, n, s_R, beta, kappa, g, L_)>"
      ]
     },
     "execution_count": 8,
     "metadata": {},
     "output_type": "execute_result"
    }
   ],
   "source": [
    "import numpy as np\n",
    "import matplotlib.pyplot as plt\n",
    "from ipywidgets import interact\n",
    "\n",
    "T = 100\n",
    "\n",
    "def simulate1(T, alpha, rho, phi, lambda_, s, delta, n, s_R):\n",
    "# Initializing arrays to store the values of the endogenous variables\n",
    "    T = 100\n",
    "    Y_R = np.zeros(T)\n",
    "    L_R = np.zeros(T)\n",
    "    K_R = np.zeros(T)\n",
    "    A_R = np.zeros(T)\n",
    "    LA_R = np.zeros(T)\n",
    "    Y_per_L = np.zeros(T)\n",
    "\n",
    "    # Setting the initial values of the endogenous variables\n",
    "    Y_R[0] = 1\n",
    "    L_R[0] = 1\n",
    "    K_R[0] = 1\n",
    "    A_R[0] = 1\n",
    "    LA_R[0] = s_R*L_R[0]\n",
    "    Y_per_L[0] = Y_R[0]/L_R[0]\n",
    "\n",
    "    # Simulating the model\n",
    "    for t in range(1, T):\n",
    "        A_R[t] = A_R[t-1] + rho*A_R[t-1]**phi*LA_R[t-1]**lambda_ # Updating A\n",
    "        K_R[t] = s*Y_R[t-1] + (1-delta)*K_R[t-1] # Updating K\n",
    "        L_R[t] = (1+n)*L_R[t-1] # Updating L\n",
    "        LA_R[t] = s_R*L_R[t] # Updating LA\n",
    "        Y_R[t] = A_R[t]*K_R[t]**alpha*L_R[t]**(1-alpha) # Updating Y\n",
    "        Y_per_L[t] = Y_R[t]/L_R[t] # Updating Y/L\n",
    "    return Y_per_L\n",
    "\n",
    "def simulate2(T, alpha, s, delta, beta, kappa, g, L_):\n",
    "    \n",
    "    T = 100\n",
    "    X=1.0\n",
    "    # Initializing arrays to store the values of the endogenous variables\n",
    "    Y_S = np.zeros(T)\n",
    "    K_S = np.zeros(T)\n",
    "    A_S = np.zeros(T)\n",
    "    Y_per_L_mland = np.zeros(T)\n",
    "\n",
    "    # Setting the initial values of the endogenous variables\n",
    "    Y_S[0] = 1\n",
    "    K_S[0] = 1\n",
    "    A_S[0] = 1\n",
    "    Y_per_L_mland[0] = Y_S[0]/L_\n",
    "\n",
    "    # Simulating the model\n",
    "    for t in range(1, T):\n",
    "        A_S[t] = (1+g)*A_S[t-1] # Updating A\n",
    "        K_S[t] = s*Y_S[t-1] + (1-delta)*K_S[t-1] # Updating K\n",
    "        Y_S[t] = K_S[t]**alpha*(A_S[t]*L_)**beta*X**kappa # Updating Y\n",
    "        Y_per_L_mland[t] = Y_S[t]/L_ # Updating Y/L\n",
    "    return Y_per_L_mland\n",
    "\n",
    "def simulate3(T, alpha, rho, phi, lambda_, s, delta, n, s_R):\n",
    "    T = 100\n",
    "    # Initializing arrays to store the values of the endogenous variables\n",
    "    Y = np.zeros(T)\n",
    "    L = np.zeros(T)\n",
    "    K = np.zeros(T)\n",
    "    A = np.zeros(T)\n",
    "    LA = np.zeros(T)\n",
    "    Y_per_L_se = np.zeros(T)\n",
    "\n",
    "    # Setting the initial values of the endogenous variables\n",
    "    Y[0] = 1\n",
    "    L[0] = 1\n",
    "    K[0] = 1\n",
    "    A[0] = 1\n",
    "    LA[0] = 1\n",
    "    Y_per_L_se[0] = Y[0]/L[0]\n",
    "\n",
    "    # Simulating the model\n",
    "    for t in range(1, T):\n",
    "        A[t] = A[t-1] + rho*A[t-1]**phi*LA[t-1]**lambda_ # Updating A\n",
    "        K[t] = s*Y[t-1] + (1-delta)*K[t-1] # Updating K\n",
    "        L[t] = (1+n)*L[t-1] # Updating L\n",
    "        LA[t] = s_R*L[t]\n",
    "        Y[t] = A[t]*(K[t]**alpha)*(L[t]**(1-alpha)) # Updating Y\n",
    "        Y_per_L_se[t] = Y[t]/L[t] # Updating output per worker\n",
    "    return Y_per_L_se\n",
    "\n",
    "def plot_simulation1(alpha, rho, phi, lambda_, s, delta, n,s_R, beta, kappa, g, L_):\n",
    "    T = 100\n",
    "    x = np.linspace(0, T, num=T)\n",
    "    y = simulate1(T, alpha, rho, phi, lambda_, s, delta, n, s_R)\n",
    "    z1 = simulate2(T, alpha, s, delta, beta, kappa, g, L_)\n",
    "    z2 = simulate3(T, alpha, rho, phi, lambda_, s, delta, n, s_R)\n",
    "    plt.plot(x, y, label='Semiendogenous romer model with R&D')\n",
    "    plt.plot(x, z1, label='Solow-model with land as fixed resource')\n",
    "    plt.plot(x, z2, label='Semi-endogenous R&D model with land as fixed resource')\n",
    "    plt.legend() # Adds the legend to the plot\n",
    "    plt.xlabel('Time')\n",
    "    plt.ylabel('Y/L')\n",
    "    plt.show()\n",
    "\n",
    "def plot_simulation2(alpha, rho, phi, lambda_, s, delta, n, s_R, beta, kappa, g):\n",
    "    T = 100\n",
    "    x1 = np.linspace(0, T, num=T)\n",
    "    y1 = simulate1(T, alpha, rho, phi, lambda_, s, delta, n, s_R)\n",
    "    plt.plot(x1, y1, label='Semiendogenous romer model with R&D')\n",
    "    plt.legend() # Adds the legend to the plot\n",
    "    plt.xlabel('Time')\n",
    "    plt.ylabel('Y/L')\n",
    "\n",
    "\n",
    "def restricted_plot(alpha, rho, phi, lambda_, s, delta, n, s_R, beta, kappa, g, L_):\n",
    "    if kappa + alpha + beta >= 1:\n",
    "        print(\"Error: The restriction kappa + alpha + beta < 1 does not hold for Solow model with land as fixed resource & Semi-e. R&D with land as FR.\")\n",
    "        return plot_simulation2(alpha, rho, phi, lambda_, s, delta, n, s_R, beta, kappa, g)\n",
    "    return plot_simulation1(alpha, rho, phi, lambda_, s, delta, n, s_R, beta, kappa, g, L_)\n",
    "\n",
    "\n",
    "interact(restricted_plot, alpha=(0.0, 1, 0.1), rho=(0.0, 1, 0.05), phi=(0.0, 1, 0.1), lambda_=(0.0, 1, 0.1), s=(0.0, 1, 0.1), delta=(0.0, 1, 0.1), n=(0.0, 1, 0.01), s_R=(0.0, 1, 0.1), beta=(0.0,1,0.1),kappa=(0.0,1,0.1),g=(0.0, 1, 0.01), L_=(1,1,0.01))"
   ]
  },
  {
   "attachments": {},
   "cell_type": "markdown",
   "metadata": {},
   "source": [
    "We have implemented that when $$\\alpha + \\beta + \\kappa ≥ 1$$ then it only shows one of the graphs, where this is not a constraint. It can be seen that the solow model with land as fixed resource is slower in the progress of getting higher compared to the other two. It can therefore be seen that by adding in the R&D, this helps the development in GDP pr. worker."
   ]
  }
 ],
 "metadata": {
  "kernelspec": {
   "display_name": "base",
   "language": "python",
   "name": "python3"
  },
  "language_info": {
   "codemirror_mode": {
    "name": "ipython",
    "version": 3
   },
   "file_extension": ".py",
   "mimetype": "text/x-python",
   "name": "python",
   "nbconvert_exporter": "python",
   "pygments_lexer": "ipython3",
   "version": "3.9.13"
  },
  "toc-autonumbering": true,
  "vscode": {
   "interpreter": {
    "hash": "37445c39a4c14a4ac365d179b73481d52ed161c0a9df849c43b6cb450023e6c9"
   }
  }
 },
 "nbformat": 4,
 "nbformat_minor": 4
}
